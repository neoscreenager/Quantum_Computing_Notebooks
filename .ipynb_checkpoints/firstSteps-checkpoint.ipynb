{
 "cells": [
  {
   "cell_type": "markdown",
   "id": "1b74a8a1-4d2c-4847-8eb0-9177d3558e1e",
   "metadata": {},
   "source": [
    "***Using the code below, you can create a simple quantum program and submit it to IBM Quantum to run on a real quantum computer. IBM Quantum will run this program for us 4000 times. Our program is probabilistic, and the results should be 000 half the time, and 111 the rest of the time. As you can see, these are not the only results, we have a small probability of measuring other outputs due to noise***"
   ]
  },
  {
   "cell_type": "code",
   "execution_count": 1,
   "id": "fa536797-b378-4efd-b00e-6ab37b5e162f",
   "metadata": {},
   "outputs": [
    {
     "data": {
      "text/html": [
       "<h3>Version Information</h3><table><tr><th>Qiskit Software</th><th>Version</th></tr><tr><td><code>qiskit-terra</code></td><td>0.21.2</td></tr><tr><td><code>qiskit-aer</code></td><td>0.11.0</td></tr><tr><td><code>qiskit-ibmq-provider</code></td><td>0.19.2</td></tr><tr><td><code>qiskit</code></td><td>0.38.0</td></tr><tr><th>System information</th></tr><tr><td>Python version</td><td>3.10.6</td></tr><tr><td>Python compiler</td><td>GCC 11.3.0</td></tr><tr><td>Python build</td><td>main, Aug 10 2022 11:40:04</td></tr><tr><td>OS</td><td>Linux</td></tr><tr><td>CPUs</td><td>4</td></tr><tr><td>Memory (Gb)</td><td>15.480972290039062</td></tr><tr><td colspan='2'>Tue Oct 11 11:15:20 2022 PST</td></tr></table>"
      ],
      "text/plain": [
       "<IPython.core.display.HTML object>"
      ]
     },
     "metadata": {},
     "output_type": "display_data"
    }
   ],
   "source": [
    "import qiskit.tools.jupyter\n",
    "%qiskit_version_table"
   ]
  },
  {
   "cell_type": "markdown",
   "id": "d22ec3ea-f1cf-4864-a286-827e4c9083c1",
   "metadata": {},
   "source": [
    "**1. Create a simple quantum program called a 'quantum circuit'.**"
   ]
  },
  {
   "cell_type": "code",
   "execution_count": 2,
   "id": "6d14ca8e-d360-4229-893b-f7bbf7dc14ef",
   "metadata": {},
   "outputs": [],
   "source": [
    "from qiskit import QuantumCircuit"
   ]
  },
  {
   "cell_type": "code",
   "execution_count": 3,
   "id": "56c90eff-91c1-4876-b839-0631eb3eeabc",
   "metadata": {},
   "outputs": [],
   "source": [
    "qc = QuantumCircuit(3)"
   ]
  },
  {
   "cell_type": "code",
   "execution_count": 4,
   "id": "af8dc1a5-fee6-4329-802f-392f735002ef",
   "metadata": {},
   "outputs": [],
   "source": [
    "qc.h(0)\n",
    "qc.cx(0, [1,2])\n",
    "qc.measure_all()"
   ]
  },
  {
   "cell_type": "markdown",
   "id": "2cd475a3-4043-4257-b4b9-df62c765098d",
   "metadata": {},
   "source": [
    "**2. Ask IBM Quantum for its least busy device that isn't a simulator.**\n",
    "    **If you're running this example locally, you need to load your\n",
    "    account with your IBM Quantum API token\n",
    " IBMQ.save_account(token=\"XYZ\")\n",
    " IBMQ.load_account()**"
   ]
  },
  {
   "cell_type": "code",
   "execution_count": 7,
   "id": "ab4a6fd8-bb44-46d5-b382-81a483d199b8",
   "metadata": {},
   "outputs": [],
   "source": [
    "from qiskit.providers.ibmq import IBMQ, least_busy"
   ]
  },
  {
   "cell_type": "code",
   "execution_count": 1,
   "id": "0b195cf9-efcb-476f-b01e-617ed92afa7d",
   "metadata": {},
   "outputs": [
    {
     "ename": "NameError",
     "evalue": "name 'IBMQ' is not defined",
     "output_type": "error",
     "traceback": [
      "\u001b[0;31m---------------------------------------------------------------------------\u001b[0m",
      "\u001b[0;31mNameError\u001b[0m                                 Traceback (most recent call last)",
      "Input \u001b[0;32mIn [1]\u001b[0m, in \u001b[0;36m<cell line: 1>\u001b[0;34m()\u001b[0m\n\u001b[0;32m----> 1\u001b[0m \u001b[43mIBMQ\u001b[49m\u001b[38;5;241m.\u001b[39msave_account(token\u001b[38;5;241m=\u001b[39m\u001b[38;5;124m\"\u001b[39m\u001b[38;5;124m\"\u001b[39m)\n",
      "\u001b[0;31mNameError\u001b[0m: name 'IBMQ' is not defined"
     ]
    }
   ],
   "source": [
    "IBMQ.save_account(token=\"\")"
   ]
  },
  {
   "cell_type": "code",
   "execution_count": 9,
   "id": "84f66615-2978-4d37-a6f2-e0a0e071ebb3",
   "metadata": {},
   "outputs": [
    {
     "data": {
      "text/plain": [
       "<AccountProvider for IBMQ(hub='ibm-q', group='open', project='main')>"
      ]
     },
     "execution_count": 9,
     "metadata": {},
     "output_type": "execute_result"
    }
   ],
   "source": [
    "IBMQ.load_account()"
   ]
  },
  {
   "cell_type": "code",
   "execution_count": 10,
   "id": "fc4c7675-01ed-4072-af52-9d1d43e24e5f",
   "metadata": {},
   "outputs": [
    {
     "name": "stdout",
     "output_type": "stream",
     "text": [
      "Running on ibmq_belem\n"
     ]
    }
   ],
   "source": [
    "provider = IBMQ.get_provider('ibm-q')\n",
    "device = least_busy(\n",
    "            provider.backends(\n",
    "                filters= lambda x: not x.configuration().simulator\n",
    "            )\n",
    "        )\n",
    "print(f'Running on {device.name()}')"
   ]
  },
  {
   "cell_type": "markdown",
   "id": "45fcfa5c-48f4-4b35-9ab5-3c4d9f7bd2ad",
   "metadata": {},
   "source": [
    "**3. Convert the program to a form the device can run.\n",
    "This is known as 'transpiling'**"
   ]
  },
  {
   "cell_type": "code",
   "execution_count": 11,
   "id": "3a918afa-268f-4237-a16a-4f93e2df422f",
   "metadata": {},
   "outputs": [],
   "source": [
    "from qiskit import transpile\n",
    "transpiled_qc = transpile(qc, device)\n"
   ]
  },
  {
   "cell_type": "markdown",
   "id": "35b0cd1b-40b4-4511-898b-e3df2ecf77ce",
   "metadata": {},
   "source": [
    "**4. Send the program off to IBM Quantum to run on a real device\n",
    "    and monitor its status.**"
   ]
  },
  {
   "cell_type": "code",
   "execution_count": 12,
   "id": "abae9782-ba01-4cb4-b129-ed9a85d1cd8f",
   "metadata": {},
   "outputs": [
    {
     "name": "stdout",
     "output_type": "stream",
     "text": [
      "Job Status: job has successfully run\n"
     ]
    }
   ],
   "source": [
    "from qiskit.tools import job_monitor\n",
    "job = device.run(transpiled_qc)\n",
    "job_monitor(job)\n"
   ]
  },
  {
   "cell_type": "markdown",
   "id": "4ce4676f-15a3-4fcb-a1d4-2e91306076f1",
   "metadata": {},
   "source": [
    "**5. Plot the results as a histogram.**"
   ]
  },
  {
   "cell_type": "code",
   "execution_count": 13,
   "id": "cef9c63f-5686-4fb3-a013-4b7495b52b76",
   "metadata": {},
   "outputs": [
    {
     "data": {
      "image/png": "[encoded data removed]",
      "text/plain": [
       "<Figure size 700x500 with 1 Axes>"
      ]
     },
     "execution_count": 13,
     "metadata": {},
     "output_type": "execute_result"
    }
   ],
   "source": [
    "from qiskit.visualization import plot_histogram\n",
    "plot_histogram(job.result().get_counts())"
   ]
  },
  {
   "cell_type": "code",
   "execution_count": 14,
   "id": "439f6f07-7205-4438-914e-1846a31497ed",
   "metadata": {},
   "outputs": [
    {
     "data": {
      "text/html": [
       "<pre style=\"word-wrap: normal;white-space: pre;background: #fff0;line-height: 1.1;font-family: &quot;Courier New&quot;,Courier,monospace\">        ┌───┐           ░ ┌─┐      \n",
       "   q_0: ┤ H ├──■────■───░─┤M├──────\n",
       "        └───┘┌─┴─┐  │   ░ └╥┘┌─┐   \n",
       "   q_1: ─────┤ X ├──┼───░──╫─┤M├───\n",
       "             └───┘┌─┴─┐ ░  ║ └╥┘┌─┐\n",
       "   q_2: ──────────┤ X ├─░──╫──╫─┤M├\n",
       "                  └───┘ ░  ║  ║ └╥┘\n",
       "meas: 3/═══════════════════╩══╩══╩═\n",
       "                           0  1  2 </pre>"
      ],
      "text/plain": [
       "        ┌───┐           ░ ┌─┐      \n",
       "   q_0: ┤ H ├──■────■───░─┤M├──────\n",
       "        └───┘┌─┴─┐  │   ░ └╥┘┌─┐   \n",
       "   q_1: ─────┤ X ├──┼───░──╫─┤M├───\n",
       "             └───┘┌─┴─┐ ░  ║ └╥┘┌─┐\n",
       "   q_2: ──────────┤ X ├─░──╫──╫─┤M├\n",
       "                  └───┘ ░  ║  ║ └╥┘\n",
       "meas: 3/═══════════════════╩══╩══╩═\n",
       "                           0  1  2 "
      ]
     },
     "execution_count": 14,
     "metadata": {},
     "output_type": "execute_result"
    }
   ],
   "source": [
    "qc.draw()"
   ]
  },
  {
   "cell_type": "markdown",
   "id": "cf1cb2c8-263d-422d-9cb0-408460ab0ccb",
   "metadata": {},
   "source": [
    "*********************************************************************************************************"
   ]
  },
  {
   "cell_type": "markdown",
   "id": "7cd7627b-b6b0-4e2a-bf8c-ba3351aec8c5",
   "metadata": {},
   "source": [
    "**Practicing creating quantum circuits**"
   ]
  },
  {
   "cell_type": "code",
   "execution_count": 25,
   "id": "374df46d-2974-41df-9d7d-e2d04f67f804",
   "metadata": {},
   "outputs": [],
   "source": [
    "qc = QuantumCircuit(3, 3) # quantum cirtuit with 3 qubits and 3 classical bits"
   ]
  },
  {
   "cell_type": "code",
   "execution_count": 26,
   "id": "39a1abc5-70d7-4697-84e4-548064d3751e",
   "metadata": {},
   "outputs": [
    {
     "data": {
      "text/html": [
       "<pre style=\"word-wrap: normal;white-space: pre;background: #fff0;line-height: 1.1;font-family: &quot;Courier New&quot;,Courier,monospace\">     \n",
       "q_0: \n",
       "     \n",
       "q_1: \n",
       "     \n",
       "q_2: \n",
       "     \n",
       "c: 3/\n",
       "     </pre>"
      ],
      "text/plain": [
       "     \n",
       "q_0: \n",
       "     \n",
       "q_1: \n",
       "     \n",
       "q_2: \n",
       "     \n",
       "c: 3/\n",
       "     "
      ]
     },
     "execution_count": 26,
     "metadata": {},
     "output_type": "execute_result"
    }
   ],
   "source": [
    "qc.draw()"
   ]
  },
  {
   "cell_type": "code",
   "execution_count": 27,
   "id": "1a688268-e049-4599-a311-9dafdf0424b8",
   "metadata": {},
   "outputs": [
    {
     "data": {
      "text/html": [
       "<pre style=\"word-wrap: normal;white-space: pre;background: #fff0;line-height: 1.1;font-family: &quot;Courier New&quot;,Courier,monospace\">     ┌─┐      \n",
       "q_0: ┤M├──────\n",
       "     └╥┘┌─┐   \n",
       "q_1: ─╫─┤M├───\n",
       "      ║ └╥┘┌─┐\n",
       "q_2: ─╫──╫─┤M├\n",
       "      ║  ║ └╥┘\n",
       "c: 3/═╩══╩══╩═\n",
       "      0  1  2 </pre>"
      ],
      "text/plain": [
       "     ┌─┐      \n",
       "q_0: ┤M├──────\n",
       "     └╥┘┌─┐   \n",
       "q_1: ─╫─┤M├───\n",
       "      ║ └╥┘┌─┐\n",
       "q_2: ─╫──╫─┤M├\n",
       "      ║  ║ └╥┘\n",
       "c: 3/═╩══╩══╩═\n",
       "      0  1  2 "
      ]
     },
     "execution_count": 27,
     "metadata": {},
     "output_type": "execute_result"
    }
   ],
   "source": [
    "qc.measure([0,1,2], [0,1,2]) # measure qubits 0,1,2 to classical bits 0,1,2\n",
    "qc.draw()"
   ]
  },
  {
   "cell_type": "code",
   "execution_count": 28,
   "id": "fc211de7-7cba-421c-88b8-a7ed446740da",
   "metadata": {},
   "outputs": [],
   "source": [
    "# Import Qiskit’s simulator (called Aer), and make a new simulator object.\n",
    "from qiskit.providers.aer import AerSimulator\n",
    "sim = AerSimulator() # make a new simulator object"
   ]
  },
  {
   "cell_type": "code",
   "execution_count": 29,
   "id": "d11e5f14-e233-48a6-8e1d-05ff41dc66a2",
   "metadata": {},
   "outputs": [
    {
     "data": {
      "text/plain": [
       "{'000': 1024}"
      ]
     },
     "execution_count": 29,
     "metadata": {},
     "output_type": "execute_result"
    }
   ],
   "source": [
    "job = sim.run(qc) # run the quantum circuit on the simulator\n",
    "result = job.result() # get the result from the job\n",
    "result.get_counts() # interpret the result as the \"counts\" dictionary"
   ]
  },
  {
   "cell_type": "code",
   "execution_count": 30,
   "id": "820997e1-f645-4618-87ef-700410c187be",
   "metadata": {},
   "outputs": [
    {
     "data": {
      "text/html": [
       "<pre style=\"word-wrap: normal;white-space: pre;background: #fff0;line-height: 1.1;font-family: &quot;Courier New&quot;,Courier,monospace\">     ┌───┐┌─┐   \n",
       "q_0: ┤ X ├┤M├───\n",
       "     ├───┤└╥┘┌─┐\n",
       "q_1: ┤ X ├─╫─┤M├\n",
       "     └┬─┬┘ ║ └╥┘\n",
       "q_2: ─┤M├──╫──╫─\n",
       "      └╥┘  ║  ║ \n",
       "c: 3/══╩═══╩══╩═\n",
       "       2   0  1 </pre>"
      ],
      "text/plain": [
       "     ┌───┐┌─┐   \n",
       "q_0: ┤ X ├┤M├───\n",
       "     ├───┤└╥┘┌─┐\n",
       "q_1: ┤ X ├─╫─┤M├\n",
       "     └┬─┬┘ ║ └╥┘\n",
       "q_2: ─┤M├──╫──╫─\n",
       "      └╥┘  ║  ║ \n",
       "c: 3/══╩═══╩══╩═\n",
       "       2   0  1 "
      ]
     },
     "execution_count": 30,
     "metadata": {},
     "output_type": "execute_result"
    }
   ],
   "source": [
    "qc = QuantumCircuit(3, 3)\n",
    "qc.x([0,1])  # Perform X-gates on qubits 0 & 1\n",
    "qc.measure([0,1,2], [0,1,2])\n",
    "qc.draw()    # returns a drawing of the circuit"
   ]
  },
  {
   "cell_type": "code",
   "execution_count": 33,
   "id": "9b57b8fc-7a4b-4ab5-98a0-7975f7228504",
   "metadata": {},
   "outputs": [
    {
     "data": {
      "text/plain": [
       "{'011': 1024}"
      ]
     },
     "execution_count": 33,
     "metadata": {},
     "output_type": "execute_result"
    }
   ],
   "source": [
    "job = sim.run(qc)      # run the experiment\n",
    "result = job.result()  # get the results\n",
    "result.get_counts()    # interpret the results as a \"counts\" dictionary"
   ]
  },
  {
   "cell_type": "code",
   "execution_count": null,
   "id": "051754f8-defd-47cb-a312-9b2f2a576d2d",
   "metadata": {},
   "outputs": [],
   "source": []
  }
 ],
 "metadata": {
  "kernelspec": {
   "display_name": "Python 3 (ipykernel)",
   "language": "python",
   "name": "python3"
  },
  "language_info": {
   "codemirror_mode": {
    "name": "ipython",
    "version": 3
   },
   "file_extension": ".py",
   "mimetype": "text/x-python",
   "name": "python",
   "nbconvert_exporter": "python",
   "pygments_lexer": "ipython3",
   "version": "3.10.6"
  }
 },
 "nbformat": 4,
 "nbformat_minor": 5
}
